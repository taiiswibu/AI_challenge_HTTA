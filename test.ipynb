{
 "cells": [
  {
   "cell_type": "code",
   "execution_count": 3,
   "id": "7719ccd1",
   "metadata": {},
   "outputs": [
    {
     "name": "stdout",
     "output_type": "stream",
     "text": [
      "Đã tải xong model vào: /home/shared/huggingface_cache\n"
     ]
    }
   ],
   "source": [
    "from transformers import CLIPModel, CLIPProcessor\n",
    "\n",
    "MODEL_CACHE_DIR = \"/home/shared/huggingface_cache\"\n",
    "\n",
    "# Tải model về cache (nếu chưa có, sẽ tự tải)\n",
    "clip_model = CLIPModel.from_pretrained(\"openai/clip-vit-large-patch14\", cache_dir=MODEL_CACHE_DIR)\n",
    "clip_processor = CLIPProcessor.from_pretrained(\"openai/clip-vit-large-patch14\", cache_dir=MODEL_CACHE_DIR)\n",
    "\n",
    "print(\"Đã tải xong model vào:\", MODEL_CACHE_DIR)\n"
   ]
  },
  {
   "cell_type": "code",
   "execution_count": 3,
   "id": "9c37f08a",
   "metadata": {},
   "outputs": [
    {
     "name": "stdout",
     "output_type": "stream",
     "text": [
      "✅ Đã kết nối Milvus & load collection: text_image_video_collection\n"
     ]
    }
   ],
   "source": [
    "from pymilvus import connections, Collection\n",
    "\n",
    "# Kết nối Milvus\n",
    "connections.connect(\n",
    "    alias=\"default\",\n",
    "    host=\"127.0.0.1\",   # hoặc \"localhost\"\n",
    "    port=\"19530\"\n",
    ")\n",
    "\n",
    "# Load collection\n",
    "collection = Collection(\"text_image_video_collection\")\n",
    "print(\"✅ Đã kết nối Milvus & load collection:\", collection.name)\n",
    "\n"
   ]
  },
  {
   "cell_type": "code",
   "execution_count": null,
   "id": "1ceee82b",
   "metadata": {},
   "outputs": [],
   "source": []
  }
 ],
 "metadata": {
  "kernelspec": {
   "display_name": "venv",
   "language": "python",
   "name": "python3"
  },
  "language_info": {
   "codemirror_mode": {
    "name": "ipython",
    "version": 3
   },
   "file_extension": ".py",
   "mimetype": "text/x-python",
   "name": "python",
   "nbconvert_exporter": "python",
   "pygments_lexer": "ipython3",
   "version": "3.13.3"
  }
 },
 "nbformat": 4,
 "nbformat_minor": 5
}
